{
 "cells": [
  {
   "attachments": {},
   "cell_type": "markdown",
   "metadata": {},
   "source": [
    "### Imports"
   ]
  },
  {
   "cell_type": "code",
   "execution_count": 11,
   "metadata": {},
   "outputs": [],
   "source": [
    "import cv2\n",
    "import mediapipe as mp\n",
    "import time"
   ]
  },
  {
   "cell_type": "code",
   "execution_count": 2,
   "metadata": {},
   "outputs": [],
   "source": [
    "mp_pose = mp.solutions.pose\n",
    "mp_drawing = mp.solutions.drawing_utils"
   ]
  },
  {
   "attachments": {},
   "cell_type": "markdown",
   "metadata": {},
   "source": [
    "### Video input and objects detection"
   ]
  },
  {
   "cell_type": "code",
   "execution_count": 13,
   "metadata": {},
   "outputs": [],
   "source": [
    "cap = cv2.VideoCapture(\"http://192.168.1.155:8080/video\")\n",
    "\n",
    "with mp_pose.Pose(min_detection_confidence = 0.5, min_tracking_confidence = 0.5) as pose:\n",
    "    while cap.isOpened():\n",
    "        result, img = cap.read()\n",
    "\n",
    "        # Convert colors\n",
    "        img = cv2.cvtColor(img, cv2.COLOR_BGR2RGB)\n",
    "        img.flags.writeable = False\n",
    "\n",
    "        # Get detections\n",
    "        results = pose.process(img)\n",
    "\n",
    "        # Convert color back to BGR for rendering\n",
    "        img.flags.writeable = True\n",
    "        img = cv2.cvtColor(img, cv2.COLOR_RGB2BGR)\n",
    "\n",
    "        mp_drawing.draw_landmarks(img, results.pose_landmarks, mp_pose.POSE_CONNECTIONS, mp_drawing.DrawingSpec(color=(245, 177, 66), thickness=2, circle_radius=4),\n",
    "                                  mp_drawing.DrawingSpec(color=(245, 66, 230), thickness=2, circle_radius=2))\n",
    "        \n",
    "        # Reize video window size\n",
    "        resized = cv2.resize(img, (600, 400))\n",
    "        cv2.imshow('Video', img)\n",
    "\n",
    "        if cv2.waitKey(10) & 0xFF == ord('q'):\n",
    "            break\n",
    "cap.release()\n",
    "cv2.destroyAllWindows()\n"
   ]
  },
  {
   "attachments": {},
   "cell_type": "markdown",
   "metadata": {},
   "source": [
    "### Stream and save video input"
   ]
  },
  {
   "cell_type": "code",
   "execution_count": 16,
   "metadata": {},
   "outputs": [],
   "source": [
    "cap = cv2.VideoCapture(\"http://192.168.1.155:8080/video\")\n",
    "\n",
    "height = cap.get(cv2.CAP_PROP_FRAME_HEIGHT)\n",
    "width = cap.get(cv2.CAP_PROP_FRAME_WIDTH)\n",
    "fps = cap.get(cv2.CAP_PROP_FPS)\n",
    "videoWriter = cv2.VideoWriter('pushups.avi', cv2.VideoWriter_fourcc('P', 'I', 'M', '1'), fps, (int(width), int(height)))\n",
    "\n",
    "while cap.isOpened():\n",
    "    success, frame = cap.read()\n",
    "\n",
    "    try:\n",
    "        cv2.imshow('Video', frame)\n",
    "        videoWriter.write(frame)\n",
    "    except Exception as e:\n",
    "        break\n",
    "\n",
    "    if cv2.waitKey(10) & 0xFF == ord('q'):\n",
    "        break\n",
    "cap.release()\n",
    "videoWriter.release()\n",
    "cv2.destroyAllWindows()\n"
   ]
  },
  {
   "attachments": {},
   "cell_type": "markdown",
   "metadata": {},
   "source": [
    "### Capture landmarks and export to a csv file"
   ]
  },
  {
   "attachments": {},
   "cell_type": "markdown",
   "metadata": {},
   "source": [
    "##### Imports"
   ]
  },
  {
   "cell_type": "code",
   "execution_count": 1,
   "metadata": {},
   "outputs": [],
   "source": [
    "import cv2\n",
    "import os\n",
    "import numpy as np\n",
    "from matplotlib import pyplot as plt\n",
    "import mediapipe as mp\n",
    "import time\n",
    "import csv"
   ]
  },
  {
   "cell_type": "code",
   "execution_count": null,
   "metadata": {},
   "outputs": [],
   "source": [
    "mp_pose = mp.solutions.pose\n",
    "mp_drawing = mp.solutions.drawing_utils"
   ]
  },
  {
   "attachments": {},
   "cell_type": "markdown",
   "metadata": {},
   "source": [
    "##### Data format in csv file"
   ]
  },
  {
   "cell_type": "code",
   "execution_count": 3,
   "metadata": {},
   "outputs": [],
   "source": [
    "landmarks = ['class']\n",
    "for val in range(1, 33+1):\n",
    "    landmarks += ['x{}'.format(val), 'y{}'.format(val), 'z{}'.format(val), 'v{}'.format(val)]"
   ]
  },
  {
   "cell_type": "code",
   "execution_count": 4,
   "metadata": {},
   "outputs": [],
   "source": [
    "with open('coords.csv', mode='w', newline='') as f:\n",
    "    csv_writer = csv.writer(f, delimiter=',', quotechar='\"', quoting=csv.QUOTE_MINIMAL)\n",
    "    csv_writer.writerow(landmarks)"
   ]
  },
  {
   "attachments": {},
   "cell_type": "markdown",
   "metadata": {},
   "source": [
    "##### Adding data to the csv file according to given label"
   ]
  },
  {
   "cell_type": "code",
   "execution_count": 5,
   "metadata": {},
   "outputs": [],
   "source": [
    "def export_landmark(results, action):\n",
    "    try:\n",
    "        keypoints = np.array([[res.x, res.y, res.z, res.visibility] for res in results.pose_landmarks.landmark]).flatten().tolist()\n",
    "        keypoints.insert(0, action)\n",
    "\n",
    "        with open('coords.csv', mode='a', newline='') as f:\n",
    "            csv_writer = csv.writer(f, delimiter=',', quotechar='\"', quoting=csv.QUOTE_MINIMAL)\n",
    "            csv_writer.writerow(keypoints)\n",
    "    except Exception as e:\n",
    "        pass\n"
   ]
  },
  {
   "cell_type": "code",
   "execution_count": 7,
   "metadata": {},
   "outputs": [
    {
     "ename": "error",
     "evalue": "OpenCV(4.7.0) D:\\a\\opencv-python\\opencv-python\\opencv\\modules\\imgproc\\src\\color.cpp:182: error: (-215:Assertion failed) !_src.empty() in function 'cv::cvtColor'\n",
     "output_type": "error",
     "traceback": [
      "\u001b[1;31m---------------------------------------------------------------------------\u001b[0m",
      "\u001b[1;31merror\u001b[0m                                     Traceback (most recent call last)",
      "Cell \u001b[1;32mIn[7], line 8\u001b[0m\n\u001b[0;32m      5\u001b[0m ret, frame \u001b[39m=\u001b[39m cap\u001b[39m.\u001b[39mread()\n\u001b[0;32m      7\u001b[0m \u001b[39m# Convert colors\u001b[39;00m\n\u001b[1;32m----> 8\u001b[0m image  \u001b[39m=\u001b[39m cv2\u001b[39m.\u001b[39;49mcvtColor(frame, cv2\u001b[39m.\u001b[39;49mCOLOR_BGR2RGB)\n\u001b[0;32m      9\u001b[0m image\u001b[39m.\u001b[39mflags\u001b[39m.\u001b[39mwriteable \u001b[39m=\u001b[39m \u001b[39mFalse\u001b[39;00m\n\u001b[0;32m     11\u001b[0m \u001b[39m# Make detection\u001b[39;00m\n",
      "\u001b[1;31merror\u001b[0m: OpenCV(4.7.0) D:\\a\\opencv-python\\opencv-python\\opencv\\modules\\imgproc\\src\\color.cpp:182: error: (-215:Assertion failed) !_src.empty() in function 'cv::cvtColor'\n"
     ]
    },
    {
     "ename": "",
     "evalue": "",
     "output_type": "error",
     "traceback": [
      "\u001b[1;31mThe Kernel crashed while executing code in the the current cell or a previous cell. Please review the code in the cell(s) to identify a possible cause of the failure. Click <a href='https://aka.ms/vscodeJupyterKernelCrash'>here</a> for more info. View Jupyter <a href='command:jupyter.viewOutput'>log</a> for further details."
     ]
    }
   ],
   "source": [
    "cap = cv2.VideoCapture('videos/pushups.mp4')\n",
    "\n",
    "with mp_pose.Pose(min_detection_confidence=0.5, min_tracking_confidence=0.5) as pose:\n",
    "    while cap.isOpened():\n",
    "        ret, frame = cap.read()\n",
    "\n",
    "        # Convert colors\n",
    "        image  = cv2.cvtColor(frame, cv2.COLOR_BGR2RGB)\n",
    "        image.flags.writeable = False\n",
    "\n",
    "        # Make detection\n",
    "        results = pose.process(image)\n",
    "\n",
    "        # Convert color back to BGR for rendering\n",
    "        image.flags.writeable = True\n",
    "        image = cv2.cvtColor(image, cv2.COLOR_RGB2BGR)\n",
    "\n",
    "        mp_drawing.draw_landmarks(image, results.pose_landmarks, mp_pose.POSE_CONNECTIONS, mp_drawing.DrawingSpec(color=(245, 177, 66), thickness=2, circle_radius=4),\n",
    "                                    mp_drawing.DrawingSpec(color=(245, 66, 230), thickness=2, circle_radius=2))\n",
    "        \n",
    "        k = cv2.waitKey(1)\n",
    "        if k == 117:\n",
    "            export_landmark(results, 'up')\n",
    "        if k == 100:\n",
    "            export_landmark(results, 'down')\n",
    "\n",
    "        cv2.imshow('Video', image)\n",
    "\n",
    "        if cv2.waitKey(1) & 0xFF == ord('q'):\n",
    "            break\n",
    "        \n",
    "cap.release()\n",
    "cv2.destroyAllWindows()"
   ]
  },
  {
   "attachments": {},
   "cell_type": "markdown",
   "metadata": {},
   "source": [
    "### Train model"
   ]
  },
  {
   "attachments": {},
   "cell_type": "markdown",
   "metadata": {},
   "source": [
    "#### Split data to train and test"
   ]
  },
  {
   "cell_type": "code",
   "execution_count": 5,
   "metadata": {},
   "outputs": [],
   "source": [
    "import pandas as pd\n",
    "from sklearn.model_selection import train_test_split"
   ]
  },
  {
   "cell_type": "code",
   "execution_count": 6,
   "metadata": {},
   "outputs": [],
   "source": [
    "df = pd.read_csv('coords.csv')"
   ]
  },
  {
   "cell_type": "code",
   "execution_count": 7,
   "metadata": {},
   "outputs": [],
   "source": [
    "X = df.drop('class' ,axis=1) # coordinates features\n",
    "y = df['class'] # labels"
   ]
  },
  {
   "cell_type": "code",
   "execution_count": 8,
   "metadata": {},
   "outputs": [],
   "source": [
    "X_train, X_test, y_train, y_test = train_test_split(X, y, test_size=0.3, random_state=1234) # split data to train and test"
   ]
  },
  {
   "attachments": {},
   "cell_type": "markdown",
   "metadata": {},
   "source": [
    "### Train models"
   ]
  },
  {
   "cell_type": "code",
   "execution_count": 9,
   "metadata": {},
   "outputs": [],
   "source": [
    "from sklearn.pipeline import make_pipeline\n",
    "from sklearn.preprocessing import StandardScaler\n",
    "\n",
    "from sklearn.linear_model import LogisticRegression, RidgeClassifier\n",
    "from sklearn.ensemble import RandomForestClassifier, GradientBoostingClassifier"
   ]
  },
  {
   "attachments": {},
   "cell_type": "markdown",
   "metadata": {},
   "source": [
    "#### Create pipeline for 4 different algorithms"
   ]
  },
  {
   "cell_type": "code",
   "execution_count": 10,
   "metadata": {},
   "outputs": [],
   "source": [
    "pipelines = {\n",
    "    'lr': make_pipeline(StandardScaler(), LogisticRegression()),\n",
    "    'rc': make_pipeline(StandardScaler(), RidgeClassifier()),\n",
    "    'rf': make_pipeline(StandardScaler(), RandomForestClassifier()),\n",
    "    'gb': make_pipeline(StandardScaler(), GradientBoostingClassifier())\n",
    "}"
   ]
  },
  {
   "attachments": {},
   "cell_type": "markdown",
   "metadata": {},
   "source": [
    "#### Train the 4 different models"
   ]
  },
  {
   "cell_type": "code",
   "execution_count": 11,
   "metadata": {},
   "outputs": [],
   "source": [
    "fit_models = {}\n",
    "for algo, pipeline in pipelines.items():\n",
    "    model = pipeline.fit(X_train, y_train)\n",
    "    fit_models[algo] = model"
   ]
  },
  {
   "cell_type": "code",
   "execution_count": 12,
   "metadata": {},
   "outputs": [
    {
     "data": {
      "text/plain": [
       "{'lr': Pipeline(steps=[('standardscaler', StandardScaler()),\n",
       "                 ('logisticregression', LogisticRegression())]),\n",
       " 'rc': Pipeline(steps=[('standardscaler', StandardScaler()),\n",
       "                 ('ridgeclassifier', RidgeClassifier())]),\n",
       " 'rf': Pipeline(steps=[('standardscaler', StandardScaler()),\n",
       "                 ('randomforestclassifier', RandomForestClassifier())]),\n",
       " 'gb': Pipeline(steps=[('standardscaler', StandardScaler()),\n",
       "                 ('gradientboostingclassifier', GradientBoostingClassifier())])}"
      ]
     },
     "execution_count": 12,
     "metadata": {},
     "output_type": "execute_result"
    }
   ],
   "source": [
    "fit_models"
   ]
  },
  {
   "attachments": {},
   "cell_type": "markdown",
   "metadata": {},
   "source": [
    "### Evaluate models"
   ]
  },
  {
   "cell_type": "code",
   "execution_count": 25,
   "metadata": {},
   "outputs": [],
   "source": [
    "from sklearn.metrics import accuracy_score, precision_score, recall_score\n",
    "import matplotlib.pyplot as plt\n",
    "import numpy as np\n",
    "import pickle"
   ]
  },
  {
   "cell_type": "code",
   "execution_count": 26,
   "metadata": {},
   "outputs": [
    {
     "name": "stdout",
     "output_type": "stream",
     "text": [
      "lr: Accuracy - 1.0000, Precision - 1.0000, Recall - 1.0000\n",
      "rc: Accuracy - 1.0000, Precision - 1.0000, Recall - 1.0000\n",
      "rf: Accuracy - 0.9444, Precision - 1.0000, Recall - 0.9000\n",
      "gb: Accuracy - 0.9444, Precision - 1.0000, Recall - 0.9000\n"
     ]
    },
    {
     "data": {
      "image/png": "[encoded data removed]",
      "text/plain": [
       "<Figure size 640x480 with 1 Axes>"
      ]
     },
     "metadata": {},
     "output_type": "display_data"
    }
   ],
   "source": [
    "accuracy_scores = []\n",
    "precision_scores = []\n",
    "recall_scores = []\n",
    "\n",
    "for algo, model in fit_models.items():\n",
    "    yhat = model.predict(X_test)\n",
    "    accuracy = accuracy_score(y_test.values, yhat)\n",
    "    precision = precision_score(y_test.values, yhat, average=\"binary\", pos_label=\"up\")\n",
    "    recall = recall_score(y_test.values, yhat, average=\"binary\", pos_label=\"up\")\n",
    "    \n",
    "    accuracy_scores.append(accuracy)\n",
    "    precision_scores.append(precision)\n",
    "    recall_scores.append(recall)\n",
    "\n",
    "    print(f\"{algo}: Accuracy - {accuracy:.4f}, Precision - {precision:.4f}, Recall - {recall:.4f}\")\n",
    "\n",
    "# Plotting the evaluation metrics\n",
    "x = np.arange(len(fit_models))\n",
    "width = 0.2\n",
    "\n",
    "fig, ax = plt.subplots()\n",
    "rects1 = ax.bar(x - width, accuracy_scores, width, label='Accuracy')\n",
    "rects2 = ax.bar(x, precision_scores, width, label='Precision')\n",
    "rects3 = ax.bar(x + width, recall_scores, width, label='Recall')\n",
    "\n",
    "ax.set_xticks(x)\n",
    "ax.set_xticklabels(fit_models.keys())\n",
    "ax.legend()\n",
    "\n",
    "ax.set_xlabel('Algorithm')\n",
    "ax.set_ylabel('Score')\n",
    "ax.set_title('Evaluation Metrics')\n",
    "\n",
    "plt.show()"
   ]
  },
  {
   "attachments": {},
   "cell_type": "markdown",
   "metadata": {},
   "source": [
    "Both logistic regression and ridgeclassifier produced the best results"
   ]
  },
  {
   "attachments": {},
   "cell_type": "markdown",
   "metadata": {},
   "source": [
    "#### Save the best model (logistic regression)"
   ]
  },
  {
   "cell_type": "code",
   "execution_count": 27,
   "metadata": {},
   "outputs": [],
   "source": [
    "with open ('pushupsDetector.pk1', 'wb') as f:\n",
    "    pickle.dump(fit_models['lr'], f)"
   ]
  },
  {
   "attachments": {},
   "cell_type": "markdown",
   "metadata": {},
   "source": [
    "### Make a prediction with saved model"
   ]
  },
  {
   "attachments": {},
   "cell_type": "markdown",
   "metadata": {},
   "source": [
    "#### Use local video file / live stream as video input flags"
   ]
  },
  {
   "cell_type": "code",
   "execution_count": 96,
   "metadata": {},
   "outputs": [],
   "source": [
    "global use_live_feed\n",
    "global use_saved_video\n",
    "\n",
    "use_live_feed = False\n",
    "use_saved_video = False"
   ]
  },
  {
   "attachments": {},
   "cell_type": "markdown",
   "metadata": {},
   "source": [
    "#### Choose video input menu"
   ]
  },
  {
   "cell_type": "code",
   "execution_count": 97,
   "metadata": {},
   "outputs": [],
   "source": [
    "import tkinter as tk\n",
    "\n",
    "# Button to set video source as live feed\n",
    "def live_feed_button():\n",
    "    global use_live_feed\n",
    "    use_live_feed = True\n",
    "    window.destroy()  # Close the window\n",
    "\n",
    "# Button to set video source as saved video file\n",
    "def saved_video_button():\n",
    "    global use_saved_video\n",
    "    use_saved_video = True\n",
    "    window.destroy()  # Close the window\n",
    "\n",
    "# Create the main window\n",
    "window = tk.Tk()\n",
    "\n",
    "# Set the window size\n",
    "window.geometry(\"400x300\")\n",
    "\n",
    "# Create \"Use live feed\" Button\n",
    "button1 = tk.Button(window, text=\"Use live feed\", command=live_feed_button)\n",
    "button1.pack()\n",
    "\n",
    "# Create \"Use saved video\" Button\n",
    "button2 = tk.Button(window, text=\"Use saved video\", command=saved_video_button)\n",
    "button2.pack()\n",
    "\n",
    "# Run the main event loop\n",
    "window.mainloop()"
   ]
  },
  {
   "attachments": {},
   "cell_type": "markdown",
   "metadata": {},
   "source": [
    "#### import and play sounds"
   ]
  },
  {
   "cell_type": "code",
   "execution_count": 98,
   "metadata": {},
   "outputs": [],
   "source": [
    "import simpleaudio as sa\n",
    "\n",
    "sound_file_path = \"sfx/keep_up_sfx.wav\"\n",
    "sound_object = sa.WaveObject.from_wave_file(sound_file_path)"
   ]
  },
  {
   "cell_type": "code",
   "execution_count": 99,
   "metadata": {},
   "outputs": [],
   "source": [
    "def play_sound():\n",
    "    play_obj = sound_object.play()"
   ]
  },
  {
   "attachments": {},
   "cell_type": "markdown",
   "metadata": {},
   "source": [
    "#### import saved model"
   ]
  },
  {
   "cell_type": "code",
   "execution_count": 100,
   "metadata": {},
   "outputs": [],
   "source": [
    "import pickle"
   ]
  },
  {
   "cell_type": "code",
   "execution_count": 101,
   "metadata": {},
   "outputs": [],
   "source": [
    "with open('pushupsDetector.pk1', 'rb') as f:\n",
    "    model = pickle.load(f)"
   ]
  },
  {
   "cell_type": "code",
   "execution_count": 102,
   "metadata": {},
   "outputs": [
    {
     "data": {
      "text/html": [
       "<style>#sk-container-id-9 {color: black;background-color: white;}#sk-container-id-9 pre{padding: 0;}#sk-container-id-9 div.sk-toggleable {background-color: white;}#sk-container-id-9 label.sk-toggleable__label {cursor: pointer;display: block;width: 100%;margin-bottom: 0;padding: 0.3em;box-sizing: border-box;text-align: center;}#sk-container-id-9 label.sk-toggleable__label-arrow:before {content: \"▸\";float: left;margin-right: 0.25em;color: #696969;}#sk-container-id-9 label.sk-toggleable__label-arrow:hover:before {color: black;}#sk-container-id-9 div.sk-estimator:hover label.sk-toggleable__label-arrow:before {color: black;}#sk-container-id-9 div.sk-toggleable__content {max-height: 0;max-width: 0;overflow: hidden;text-align: left;background-color: #f0f8ff;}#sk-container-id-9 div.sk-toggleable__content pre {margin: 0.2em;color: black;border-radius: 0.25em;background-color: #f0f8ff;}#sk-container-id-9 input.sk-toggleable__control:checked~div.sk-toggleable__content {max-height: 200px;max-width: 100%;overflow: auto;}#sk-container-id-9 input.sk-toggleable__control:checked~label.sk-toggleable__label-arrow:before {content: \"▾\";}#sk-container-id-9 div.sk-estimator input.sk-toggleable__control:checked~label.sk-toggleable__label {background-color: #d4ebff;}#sk-container-id-9 div.sk-label input.sk-toggleable__control:checked~label.sk-toggleable__label {background-color: #d4ebff;}#sk-container-id-9 input.sk-hidden--visually {border: 0;clip: rect(1px 1px 1px 1px);clip: rect(1px, 1px, 1px, 1px);height: 1px;margin: -1px;overflow: hidden;padding: 0;position: absolute;width: 1px;}#sk-container-id-9 div.sk-estimator {font-family: monospace;background-color: #f0f8ff;border: 1px dotted black;border-radius: 0.25em;box-sizing: border-box;margin-bottom: 0.5em;}#sk-container-id-9 div.sk-estimator:hover {background-color: #d4ebff;}#sk-container-id-9 div.sk-parallel-item::after {content: \"\";width: 100%;border-bottom: 1px solid gray;flex-grow: 1;}#sk-container-id-9 div.sk-label:hover label.sk-toggleable__label {background-color: #d4ebff;}#sk-container-id-9 div.sk-serial::before {content: \"\";position: absolute;border-left: 1px solid gray;box-sizing: border-box;top: 0;bottom: 0;left: 50%;z-index: 0;}#sk-container-id-9 div.sk-serial {display: flex;flex-direction: column;align-items: center;background-color: white;padding-right: 0.2em;padding-left: 0.2em;position: relative;}#sk-container-id-9 div.sk-item {position: relative;z-index: 1;}#sk-container-id-9 div.sk-parallel {display: flex;align-items: stretch;justify-content: center;background-color: white;position: relative;}#sk-container-id-9 div.sk-item::before, #sk-container-id-9 div.sk-parallel-item::before {content: \"\";position: absolute;border-left: 1px solid gray;box-sizing: border-box;top: 0;bottom: 0;left: 50%;z-index: -1;}#sk-container-id-9 div.sk-parallel-item {display: flex;flex-direction: column;z-index: 1;position: relative;background-color: white;}#sk-container-id-9 div.sk-parallel-item:first-child::after {align-self: flex-end;width: 50%;}#sk-container-id-9 div.sk-parallel-item:last-child::after {align-self: flex-start;width: 50%;}#sk-container-id-9 div.sk-parallel-item:only-child::after {width: 0;}#sk-container-id-9 div.sk-dashed-wrapped {border: 1px dashed gray;margin: 0 0.4em 0.5em 0.4em;box-sizing: border-box;padding-bottom: 0.4em;background-color: white;}#sk-container-id-9 div.sk-label label {font-family: monospace;font-weight: bold;display: inline-block;line-height: 1.2em;}#sk-container-id-9 div.sk-label-container {text-align: center;}#sk-container-id-9 div.sk-container {/* jupyter's `normalize.less` sets `[hidden] { display: none; }` but bootstrap.min.css set `[hidden] { display: none !important; }` so we also need the `!important` here to be able to override the default hidden behavior on the sphinx rendered scikit-learn.org. See: https://github.com/scikit-learn/scikit-learn/issues/21755 */display: inline-block !important;position: relative;}#sk-container-id-9 div.sk-text-repr-fallback {display: none;}</style><div id=\"sk-container-id-9\" class=\"sk-top-container\"><div class=\"sk-text-repr-fallback\"><pre>Pipeline(steps=[(&#x27;standardscaler&#x27;, StandardScaler()),\n",
       "                (&#x27;logisticregression&#x27;, LogisticRegression())])</pre><b>In a Jupyter environment, please rerun this cell to show the HTML representation or trust the notebook. <br />On GitHub, the HTML representation is unable to render, please try loading this page with nbviewer.org.</b></div><div class=\"sk-container\" hidden><div class=\"sk-item sk-dashed-wrapped\"><div class=\"sk-label-container\"><div class=\"sk-label sk-toggleable\"><input class=\"sk-toggleable__control sk-hidden--visually\" id=\"sk-estimator-id-25\" type=\"checkbox\" ><label for=\"sk-estimator-id-25\" class=\"sk-toggleable__label sk-toggleable__label-arrow\">Pipeline</label><div class=\"sk-toggleable__content\"><pre>Pipeline(steps=[(&#x27;standardscaler&#x27;, StandardScaler()),\n",
       "                (&#x27;logisticregression&#x27;, LogisticRegression())])</pre></div></div></div><div class=\"sk-serial\"><div class=\"sk-item\"><div class=\"sk-estimator sk-toggleable\"><input class=\"sk-toggleable__control sk-hidden--visually\" id=\"sk-estimator-id-26\" type=\"checkbox\" ><label for=\"sk-estimator-id-26\" class=\"sk-toggleable__label sk-toggleable__label-arrow\">StandardScaler</label><div class=\"sk-toggleable__content\"><pre>StandardScaler()</pre></div></div></div><div class=\"sk-item\"><div class=\"sk-estimator sk-toggleable\"><input class=\"sk-toggleable__control sk-hidden--visually\" id=\"sk-estimator-id-27\" type=\"checkbox\" ><label for=\"sk-estimator-id-27\" class=\"sk-toggleable__label sk-toggleable__label-arrow\">LogisticRegression</label><div class=\"sk-toggleable__content\"><pre>LogisticRegression()</pre></div></div></div></div></div></div></div>"
      ],
      "text/plain": [
       "Pipeline(steps=[('standardscaler', StandardScaler()),\n",
       "                ('logisticregression', LogisticRegression())])"
      ]
     },
     "execution_count": 102,
     "metadata": {},
     "output_type": "execute_result"
    }
   ],
   "source": [
    "model"
   ]
  },
  {
   "cell_type": "code",
   "execution_count": 103,
   "metadata": {},
   "outputs": [],
   "source": [
    "import cv2\n",
    "import mediapipe as mp\n",
    "import numpy as np\n",
    "import pandas as pd"
   ]
  },
  {
   "cell_type": "code",
   "execution_count": 104,
   "metadata": {},
   "outputs": [],
   "source": [
    "landmarks = ['class']\n",
    "for val in range(1, 33+1):\n",
    "    landmarks += ['x{}'.format(val), 'y{}'.format(val), 'z{}'.format(val), 'v{}'.format(val)]"
   ]
  },
  {
   "cell_type": "code",
   "execution_count": 105,
   "metadata": {},
   "outputs": [],
   "source": [
    "mp_pose = mp.solutions.pose\n",
    "mp_drawing = mp.solutions.drawing_utils"
   ]
  },
  {
   "cell_type": "code",
   "execution_count": 106,
   "metadata": {},
   "outputs": [
    {
     "name": "stdout",
     "output_type": "stream",
     "text": [
      "up [8.14646765e-04 9.99185353e-01]\n",
      "up [9.17227173e-04 9.99082773e-01]\n",
      "up [9.07982133e-04 9.99092018e-01]\n",
      "up [9.11041240e-04 9.99088959e-01]\n",
      "up [8.95643741e-04 9.99104356e-01]\n",
      "up [8.82890670e-04 9.99117109e-01]\n",
      "up [8.86267747e-04 9.99113732e-01]\n",
      "up [9.20169482e-04 9.99079831e-01]\n",
      "up [9.12615821e-04 9.99087384e-01]\n",
      "up [9.35322794e-04 9.99064677e-01]\n",
      "up [9.73423814e-04 9.99026576e-01]\n",
      "up [9.97384459e-04 9.99002616e-01]\n",
      "up [0.00101101 0.99898899]\n",
      "up [0.00102364 0.99897636]\n",
      "up [0.00103522 0.99896478]\n",
      "up [0.00104058 0.99895942]\n",
      "up [0.0010667 0.9989333]\n",
      "up [0.00110182 0.99889818]\n",
      "up [0.00111889 0.99888111]\n",
      "up [0.00120071 0.99879929]\n",
      "up [0.00125297 0.99874703]\n",
      "up [0.00125813 0.99874187]\n",
      "up [0.00123998 0.99876002]\n",
      "up [0.00121741 0.99878259]\n",
      "up [0.00119601 0.99880399]\n",
      "up [0.00116949 0.99883051]\n",
      "up [0.00105675 0.99894325]\n",
      "up [9.47023072e-04 9.99052977e-01]\n",
      "up [9.13506767e-04 9.99086493e-01]\n",
      "up [8.9787995e-04 9.9910212e-01]\n",
      "up [9.67183111e-04 9.99032817e-01]\n",
      "up [0.0011932 0.9988068]\n",
      "up [0.00177432 0.99822568]\n",
      "up [0.00347412 0.99652588]\n",
      "up [0.00654789 0.99345211]\n",
      "up [0.01420456 0.98579544]\n",
      "up [0.02916328 0.97083672]\n",
      "up [0.0515641 0.9484359]\n",
      "up [0.10014709 0.89985291]\n",
      "up [0.17821296 0.82178704]\n",
      "up [0.33641858 0.66358142]\n",
      "up [0.38125973 0.61874027]\n",
      "up [0.46437412 0.53562588]\n",
      "down [0.66558743 0.33441257]\n",
      "down [0.78798148 0.21201852]\n",
      "down [0.92849482 0.07150518]\n",
      "down [0.97708005 0.02291995]\n",
      "down [0.98537248 0.01462752]\n",
      "down [0.99032454 0.00967546]\n",
      "down [0.97503477 0.02496523]\n",
      "down [0.94396457 0.05603543]\n",
      "down [0.90173282 0.09826718]\n",
      "down [0.82893852 0.17106148]\n",
      "down [0.67216522 0.32783478]\n",
      "up [0.34529581 0.65470419]\n",
      "down [0.60656346 0.39343654]\n",
      "up [0.15363942 0.84636058]\n",
      "up\n",
      "up [0.0660531 0.9339469]\n",
      "up [0.02265958 0.97734042]\n",
      "up [0.01020529 0.98979471]\n",
      "up [0.00434655 0.99565345]\n",
      "up [0.00241673 0.99758327]\n",
      "up [0.00162984 0.99837016]\n",
      "up [9.07918428e-04 9.99092082e-01]\n",
      "up [0.00110705 0.99889295]\n",
      "up [0.00104975 0.99895025]\n",
      "up [0.00237428 0.99762572]\n",
      "up [0.00643539 0.99356461]\n",
      "up [0.01394937 0.98605063]\n",
      "up [0.03282191 0.96717809]\n",
      "up [0.12209276 0.87790724]\n",
      "up [0.32236781 0.67763219]\n",
      "up [0.38399033 0.61600967]\n",
      "down [0.6180772 0.3819228]\n",
      "down [0.69085584 0.30914416]\n",
      "down [0.86506446 0.13493554]\n",
      "down [0.93701551 0.06298449]\n",
      "down [0.95864035 0.04135965]\n",
      "down [0.92936011 0.07063989]\n",
      "down [0.88716095 0.11283905]\n",
      "down [0.78706833 0.21293167]\n",
      "down [0.55966979 0.44033021]\n",
      "up [0.38379246 0.61620754]\n",
      "up [0.24653159 0.75346841]\n",
      "up\n",
      "up [0.0929816 0.9070184]\n",
      "up [0.04955926 0.95044074]\n",
      "up [0.0205734 0.9794266]\n",
      "up [0.01033673 0.98966327]\n",
      "up [0.00491757 0.99508243]\n",
      "up [0.00256221 0.99743779]\n",
      "up [0.00149515 0.99850485]\n",
      "up [0.00116989 0.99883011]\n",
      "up [0.00131798 0.99868202]\n",
      "up [0.00162015 0.99837985]\n",
      "up [0.00254658 0.99745342]\n",
      "up [0.00649676 0.99350324]\n",
      "up [0.01991876 0.98008124]\n",
      "up [0.07294913 0.92705087]\n",
      "up [0.16376327 0.83623673]\n",
      "up [0.27423635 0.72576365]\n",
      "up [0.29455992 0.70544008]\n",
      "up [0.4208436 0.5791564]\n",
      "down [0.61822594 0.38177406]\n",
      "down [0.77304953 0.22695047]\n",
      "down [0.92827216 0.07172784]\n",
      "down [0.92749991 0.07250009]\n",
      "down [0.93886181 0.06113819]\n",
      "down [0.94499215 0.05500785]\n",
      "down [0.8935973 0.1064027]\n",
      "down [0.83327697 0.16672303]\n",
      "down [0.65544387 0.34455613]\n",
      "up [0.48443518 0.51556482]\n",
      "up [0.20959109 0.79040891]\n",
      "up\n",
      "up [0.12893922 0.87106078]\n",
      "up [0.07060389 0.92939611]\n",
      "up [0.03807821 0.96192179]\n",
      "up [0.01985108 0.98014892]\n",
      "up [0.00819783 0.99180217]\n",
      "up [0.0031306 0.9968694]\n",
      "up [0.00160583 0.99839417]\n",
      "up [0.00137683 0.99862317]\n",
      "up [0.00234959 0.99765041]\n",
      "up [0.0021027 0.9978973]\n",
      "up [0.00599272 0.99400728]\n",
      "up [0.00985894 0.99014106]\n",
      "up [0.02257488 0.97742512]\n",
      "up [0.05531707 0.94468293]\n",
      "up [0.10354866 0.89645134]\n",
      "up [0.15448714 0.84551286]\n",
      "up [0.29155509 0.70844491]\n",
      "up [0.35446064 0.64553936]\n",
      "down [0.60279697 0.39720303]\n",
      "down [0.71692119 0.28307881]\n",
      "down [0.8455566 0.1544434]\n",
      "down [0.87049881 0.12950119]\n",
      "down [0.87985956 0.12014044]\n",
      "down [0.87703739 0.12296261]\n",
      "down [0.84132233 0.15867767]\n",
      "down [0.78772369 0.21227631]\n",
      "down [0.61012803 0.38987197]\n",
      "up [0.43496779 0.56503221]\n",
      "up [0.34030702 0.65969298]\n",
      "up [0.18465202 0.81534798]\n",
      "up\n",
      "up [0.04434991 0.95565009]\n",
      "up [0.02369155 0.97630845]\n",
      "up [0.01239391 0.98760609]\n",
      "up [0.00458691 0.99541309]\n",
      "up [0.00161876 0.99838124]\n",
      "up [9.66351562e-04 9.99033648e-01]\n",
      "up [9.20880289e-04 9.99079120e-01]\n",
      "up [7.77606318e-04 9.99222394e-01]\n",
      "up [8.30338479e-04 9.99169662e-01]\n",
      "up [7.37928161e-04 9.99262072e-01]\n",
      "up [9.07157311e-04 9.99092843e-01]\n",
      "up [0.00297611 0.99702389]\n",
      "up [0.01314553 0.98685447]\n",
      "up [0.06270754 0.93729246]\n",
      "up [0.15014197 0.84985803]\n",
      "up [0.10821674 0.89178326]\n",
      "up [0.19910189 0.80089811]\n",
      "up [0.33938859 0.66061141]\n",
      "down [0.50035713 0.49964287]\n",
      "down [0.7257653 0.2742347]\n",
      "down [0.79623033 0.20376967]\n",
      "down [0.8141413 0.1858587]\n",
      "down [0.86397678 0.13602322]\n",
      "down [0.81618236 0.18381764]\n",
      "down [0.80058906 0.19941094]\n",
      "down [0.74086504 0.25913496]\n",
      "down [0.60341349 0.39658651]\n",
      "up [0.36658747 0.63341253]\n",
      "up [0.21231049 0.78768951]\n",
      "up\n",
      "up [0.12744546 0.87255454]\n",
      "up [0.05154609 0.94845391]\n",
      "up [0.02534611 0.97465389]\n",
      "up [0.01371084 0.98628916]\n",
      "up [0.00451644 0.99548356]\n",
      "up [0.00175053 0.99824947]\n",
      "up [9.86770585e-04 9.99013229e-01]\n",
      "up [5.62790793e-04 9.99437209e-01]\n",
      "up [4.31925412e-04 9.99568075e-01]\n",
      "up [3.79617279e-04 9.99620383e-01]\n",
      "up [3.08286154e-04 9.99691714e-01]\n",
      "up [5.72063993e-04 9.99427936e-01]\n",
      "up [0.00117055 0.99882945]\n",
      "up [0.00396581 0.99603419]\n",
      "up [0.00867334 0.99132666]\n",
      "up [0.01678797 0.98321203]\n",
      "up [0.04632297 0.95367703]\n",
      "up [0.05559042 0.94440958]\n",
      "up [0.11296515 0.88703485]\n",
      "up [0.23021776 0.76978224]\n",
      "up [0.34326474 0.65673526]\n",
      "down [0.5540273 0.4459727]\n",
      "down [0.68901457 0.31098543]\n",
      "down [0.75418535 0.24581465]\n",
      "down [0.77163708 0.22836292]\n",
      "down [0.77412969 0.22587031]\n",
      "down [0.70553704 0.29446296]\n",
      "down [0.62769015 0.37230985]\n",
      "down [0.5435831 0.4564169]\n",
      "up [0.40625618 0.59374382]\n",
      "up [0.35663288 0.64336712]\n",
      "up [0.2513464 0.7486536]\n",
      "up\n",
      "up [0.1051673 0.8948327]\n",
      "up [0.02800714 0.97199286]\n",
      "up [0.01505878 0.98494122]\n",
      "up [0.00792251 0.99207749]\n",
      "up [0.00457169 0.99542831]\n",
      "up [0.00207161 0.99792839]\n",
      "up [0.00120421 0.99879579]\n",
      "up [7.69013991e-04 9.99230986e-01]\n",
      "up [7.05608708e-04 9.99294391e-01]\n",
      "up [8.00070767e-04 9.99199929e-01]\n",
      "up [8.30904766e-04 9.99169095e-01]\n",
      "up [9.11287466e-04 9.99088713e-01]\n",
      "up [0.00229613 0.99770387]\n",
      "up [0.00769725 0.99230275]\n",
      "up [0.02771561 0.97228439]\n",
      "up [0.06158193 0.93841807]\n",
      "up [0.07521217 0.92478783]\n",
      "up [0.11959444 0.88040556]\n",
      "up [0.20146851 0.79853149]\n",
      "up [0.46602827 0.53397173]\n",
      "down [0.58136252 0.41863748]\n",
      "down [0.63381914 0.36618086]\n",
      "down [0.69928062 0.30071938]\n",
      "down [0.74113123 0.25886877]\n",
      "down [0.76262482 0.23737518]\n",
      "down [0.7112552 0.2887448]\n",
      "down [0.65937225 0.34062775]\n",
      "up [0.45530272 0.54469728]\n",
      "up [0.26745933 0.73254067]\n",
      "up\n",
      "up [0.15594479 0.84405521]\n",
      "up [0.08685601 0.91314399]\n",
      "up [0.02504715 0.97495285]\n",
      "up [0.01212848 0.98787152]\n",
      "up [0.0068875 0.9931125]\n",
      "up [0.0061658 0.9938342]\n",
      "up [0.0025614 0.9974386]\n",
      "up [0.00106526 0.99893474]\n",
      "up [6.96441855e-04 9.99303558e-01]\n",
      "up [5.54732456e-04 9.99445268e-01]\n",
      "up [5.99764107e-04 9.99400236e-01]\n",
      "up [4.31362384e-04 9.99568638e-01]\n",
      "up [8.56773467e-04 9.99143227e-01]\n",
      "up [0.00259999 0.99740001]\n",
      "up [0.00938227 0.99061773]\n",
      "up [0.02265609 0.97734391]\n",
      "up [0.04057529 0.95942471]\n",
      "up [0.04340701 0.95659299]\n",
      "up [0.06253512 0.93746488]\n",
      "up [0.11020626 0.88979374]\n",
      "up [0.45085604 0.54914396]\n",
      "down [0.65017736 0.34982264]\n",
      "down [0.71294096 0.28705904]\n",
      "down [0.80456168 0.19543832]\n",
      "down [0.84565491 0.15434509]\n",
      "down [0.85232628 0.14767372]\n",
      "down [0.8190024 0.1809976]\n",
      "down [0.80791351 0.19208649]\n",
      "down [0.76792288 0.23207712]\n",
      "down [0.57790037 0.42209963]\n",
      "up [0.37569638 0.62430362]\n",
      "up [0.20085906 0.79914094]\n",
      "up\n",
      "up [0.0986746 0.9013254]\n",
      "up [0.03399171 0.96600829]\n",
      "up [0.01255635 0.98744365]\n",
      "up [0.00949966 0.99050034]\n",
      "up [0.00644895 0.99355105]\n",
      "up [0.00235648 0.99764352]\n",
      "up [0.00150471 0.99849529]\n",
      "up [6.99148525e-04 9.99300851e-01]\n",
      "up [5.22426347e-04 9.99477574e-01]\n",
      "up [5.43832061e-04 9.99456168e-01]\n",
      "up [5.32938992e-04 9.99467061e-01]\n",
      "up [5.00638753e-04 9.99499361e-01]\n",
      "up [0.00226396 0.99773604]\n",
      "up [0.00669361 0.99330639]\n",
      "up [0.0206048 0.9793952]\n",
      "up [0.03826672 0.96173328]\n",
      "up [0.08335415 0.91664585]\n",
      "up [0.20397982 0.79602018]\n",
      "up [0.33355933 0.66644067]\n",
      "up [0.44350256 0.55649744]\n",
      "down [0.62159669 0.37840331]\n",
      "down [0.74074491 0.25925509]\n",
      "down [0.83351123 0.16648877]\n",
      "down [0.83810509 0.16189491]\n",
      "down [0.87615351 0.12384649]\n",
      "down [0.8955093 0.1044907]\n",
      "down [0.87518661 0.12481339]\n",
      "down [0.76631076 0.23368924]\n",
      "down [0.53806117 0.46193883]\n",
      "up [0.33386162 0.66613838]\n",
      "up [0.2089303 0.7910697]\n",
      "up\n",
      "up [0.11259474 0.88740526]\n",
      "up [0.04346483 0.95653517]\n",
      "up [0.02611035 0.97388965]\n",
      "up [0.01648513 0.98351487]\n",
      "up [0.00962274 0.99037726]\n",
      "up [0.00262211 0.99737789]\n",
      "up [0.0012799 0.9987201]\n",
      "up [8.92001869e-04 9.99107998e-01]\n",
      "up [7.91195830e-04 9.99208804e-01]\n",
      "up [4.00940633e-04 9.99599059e-01]\n",
      "up [1.91117210e-04 9.99808883e-01]\n",
      "up [3.48033158e-04 9.99651967e-01]\n",
      "up [8.67751523e-04 9.99132248e-01]\n",
      "up [0.00791401 0.99208599]\n",
      "up [0.0230638 0.9769362]\n",
      "up [0.05316836 0.94683164]\n",
      "up [0.09843227 0.90156773]\n",
      "up [0.19218997 0.80781003]\n",
      "up [0.34728369 0.65271631]\n",
      "down [0.54158021 0.45841979]\n",
      "down [0.68887536 0.31112464]\n",
      "down [0.82346515 0.17653485]\n",
      "down [0.85121414 0.14878586]\n",
      "down [0.92571699 0.07428301]\n",
      "down [0.90218803 0.09781197]\n",
      "down [0.87699438 0.12300562]\n",
      "down [0.79867261 0.20132739]\n",
      "down [0.57544775 0.42455225]\n",
      "up [0.38092771 0.61907229]\n",
      "up [0.25925327 0.74074673]\n",
      "up\n",
      "up [0.09573267 0.90426733]\n",
      "up [0.05179644 0.94820356]\n",
      "up [0.02724298 0.97275702]\n",
      "up [0.01677127 0.98322873]\n",
      "up [0.0040801 0.9959199]\n",
      "up [0.00199625 0.99800375]\n",
      "up [0.00110993 0.99889007]\n",
      "up [5.92370904e-04 9.99407629e-01]\n",
      "up [4.04253615e-04 9.99595746e-01]\n",
      "up [2.45887262e-04 9.99754113e-01]\n",
      "up [2.53333810e-04 9.99746666e-01]\n",
      "up [2.91152850e-04 9.99708847e-01]\n",
      "up [3.60228894e-04 9.99639771e-01]\n",
      "up [4.98000075e-04 9.99502000e-01]\n",
      "up [5.67502260e-04 9.99432498e-01]\n",
      "up [6.83063930e-04 9.99316936e-01]\n",
      "up [7.84331045e-04 9.99215669e-01]\n",
      "up [0.00133271 0.99866729]\n",
      "up [0.00164841 0.99835159]\n",
      "up [0.00241699 0.99758301]\n",
      "up [0.00353884 0.99646116]\n",
      "up [0.00331866 0.99668134]\n",
      "up [0.00339364 0.99660636]\n",
      "up [0.00371537 0.99628463]\n",
      "up [0.00330281 0.99669719]\n",
      "up [0.00337173 0.99662827]\n",
      "up [0.00483482 0.99516518]\n",
      "up [0.00560596 0.99439404]\n",
      "up [0.00699518 0.99300482]\n",
      "up [0.00954843 0.99045157]\n",
      "up [0.01738561 0.98261439]\n",
      "up [0.02034365 0.97965635]\n",
      "up [0.02590009 0.97409991]\n",
      "up [0.03721659 0.96278341]\n",
      "up [0.05306518 0.94693482]\n",
      "up [0.05270502 0.94729498]\n",
      "up [0.06073146 0.93926854]\n",
      "up [0.05947574 0.94052426]\n",
      "up [0.06357664 0.93642336]\n",
      "up [0.03491393 0.96508607]\n",
      "up [0.02972103 0.97027897]\n",
      "up [0.03423381 0.96576619]\n",
      "up [0.04722924 0.95277076]\n",
      "up [0.0492708 0.9507292]\n",
      "up [0.03479919 0.96520081]\n",
      "up [0.03942679 0.96057321]\n",
      "up [0.03824855 0.96175145]\n",
      "up [0.06444547 0.93555453]\n",
      "up [0.08556979 0.91443021]\n",
      "up [0.10484714 0.89515286]\n",
      "up [0.10782906 0.89217094]\n",
      "up [0.11277952 0.88722048]\n",
      "up [0.08802444 0.91197556]\n",
      "up [0.07221711 0.92778289]\n",
      "up [0.04093388 0.95906612]\n",
      "up [0.03555714 0.96444286]\n",
      "up [0.02862569 0.97137431]\n",
      "up [0.03512375 0.96487625]\n",
      "up [0.03849996 0.96150004]\n",
      "up [0.04405569 0.95594431]\n",
      "up [0.05816845 0.94183155]\n",
      "up [0.05419121 0.94580879]\n",
      "up [0.06698282 0.93301718]\n",
      "up [0.05966806 0.94033194]\n",
      "up [0.05225702 0.94774298]\n",
      "up [0.0496237 0.9503763]\n",
      "up [0.03841619 0.96158381]\n",
      "up [0.04566906 0.95433094]\n",
      "up [0.0524908 0.9475092]\n",
      "up [0.06542443 0.93457557]\n",
      "up [0.0736509 0.9263491]\n",
      "up [0.0771121 0.9228879]\n",
      "up [0.07007575 0.92992425]\n",
      "up [0.0699105 0.9300895]\n",
      "up [0.0670946 0.9329054]\n",
      "up [0.07216525 0.92783475]\n",
      "up [0.07733715 0.92266285]\n",
      "up [0.07710562 0.92289438]\n",
      "up [0.07449992 0.92550008]\n",
      "up [0.06405435 0.93594565]\n",
      "up [0.05347689 0.94652311]\n",
      "up [0.04038582 0.95961418]\n",
      "up [0.03078809 0.96921191]\n",
      "up [0.03009741 0.96990259]\n",
      "up [0.03059385 0.96940615]\n",
      "up [0.03582443 0.96417557]\n",
      "up [0.06263659 0.93736341]\n",
      "up [0.10031994 0.89968006]\n",
      "up [0.14445425 0.85554575]\n",
      "up [0.20719182 0.79280818]\n",
      "up [0.20038795 0.79961205]\n",
      "up [0.15944554 0.84055446]\n",
      "up [0.13128472 0.86871528]\n",
      "up [0.12400003 0.87599997]\n",
      "up [0.13035568 0.86964432]\n",
      "up [0.10936369 0.89063631]\n",
      "up [0.11879901 0.88120099]\n",
      "up [0.15251067 0.84748933]\n",
      "up [0.15618019 0.84381981]\n",
      "up [0.13968136 0.86031864]\n",
      "up [0.13552004 0.86447996]\n",
      "up [0.12177038 0.87822962]\n",
      "up [0.11191925 0.88808075]\n",
      "up [0.11303531 0.88696469]\n",
      "up [0.11084627 0.88915373]\n",
      "up [0.1149943 0.8850057]\n",
      "up [0.11734052 0.88265948]\n",
      "up [0.12969034 0.87030966]\n",
      "up [0.13228339 0.86771661]\n",
      "up [0.12133102 0.87866898]\n",
      "up [0.09676119 0.90323881]\n",
      "up [0.08942514 0.91057486]\n",
      "up [0.07470233 0.92529767]\n",
      "up [0.06630965 0.93369035]\n",
      "up [0.0625156 0.9374844]\n",
      "up [0.05122383 0.94877617]\n",
      "up [0.04762411 0.95237589]\n",
      "up [0.04909449 0.95090551]\n",
      "up [0.05535312 0.94464688]\n",
      "up [0.05014207 0.94985793]\n",
      "up [0.05104861 0.94895139]\n",
      "up [0.03217015 0.96782985]\n"
     ]
    }
   ],
   "source": [
    "import requests\n",
    "\n",
    "# Set video source as the user has chosen. If live feed was chosen but there is no connection, use saved video file instead\n",
    "if use_live_feed:\n",
    "    try:\n",
    "        response = requests.get(\"http://192.168.1.155:8080\")\n",
    "        if response.status_code == 200:\n",
    "            print(\"Connection successful\")\n",
    "            cap = cv2.VideoCapture(\"http://192.168.1.155:8080/video\")\n",
    "        else:\n",
    "            print(\"Connection failed with status code:\", response.status_code)\n",
    "        \n",
    "    except requests.exceptions.RequestException as e:\n",
    "        print(\"Connection failed, using saved video file instead:\", str(e))\n",
    "        cap = cv2.VideoCapture('videos/pushups2.mp4')\n",
    "\n",
    "elif use_saved_video:\n",
    "    cap = cv2.VideoCapture('videos/pushups2.mp4')\n",
    "\n",
    "counter = 0\n",
    "current_stage = ''\n",
    "with mp_pose.Pose(min_detection_confidence=0.5, min_tracking_confidence=0.5) as pose:\n",
    "    while cap.isOpened():\n",
    "        try:\n",
    "            ret, frame = cap.read()\n",
    "\n",
    "            image = cv2.cvtColor(frame, cv2.COLOR_BGR2RGB)\n",
    "            image.flags.writeable = False\n",
    "\n",
    "            results = pose.process(image)\n",
    "\n",
    "            image.flags.writeable = True\n",
    "            image = cv2.cvtColor(image, cv2.COLOR_RGB2BGR)\n",
    "\n",
    "            mp_drawing.draw_landmarks(image, results.pose_landmarks, mp_pose.POSE_CONNECTIONS,\n",
    "                                    mp_drawing.DrawingSpec(color=(245,177,66), thickness=2, circle_radius=4),\n",
    "                                    mp_drawing.DrawingSpec(color=(245,66,230), thickness=2, circle_radius=2)\n",
    "                                    )\n",
    "        except:\n",
    "            break\n",
    "        try:\n",
    "            row = np.array([[res.x, res.y, res.z, res.visibility] for res in results.pose_landmarks.landmark]).flatten().tolist()\n",
    "            X = pd.DataFrame([row], columns=landmarks[1:])\n",
    "            pushup_label = model.predict(X)[0]\n",
    "            pushup_prob = model.predict_proba(X)[0]\n",
    "            print(pushup_label, pushup_prob)\n",
    "\n",
    "            if pushup_label == 'down' and pushup_prob[pushup_prob.argmax()] >= 0.7:\n",
    "                current_stage = 'down'\n",
    "            elif current_stage == 'down' and pushup_label == 'up' and pushup_prob[pushup_prob.argmax()] >= 0.7:\n",
    "                current_stage = 'up'\n",
    "                counter += 1\n",
    "                print(current_stage)\n",
    "\n",
    "                # for each 10 pushups, play \"keep up\" sound\n",
    "                if counter % 10 == 0:\n",
    "                    play_sound()\n",
    "                \"\"\"\n",
    "                # Record when changed to'up'\n",
    "                event_time = time.time()\n",
    "\n",
    "                # Wait for 2 seconds since changed to 'up'\n",
    "                time.sleep(3) \n",
    "\n",
    "                # Check if 3 seconds have passed since the event\n",
    "                current_time = time.time()\n",
    "                elapsed_time = current_time - event_time\n",
    "                if elapsed_time >= 3 and pushup_label == 'up':\n",
    "                    play_obj = sound_object.play()\n",
    "                    play_obj.wait_done()\n",
    "                else:\n",
    "                    pass\n",
    "                \"\"\"\n",
    "\n",
    "\n",
    "            # Display pushup action label\n",
    "            cv2.rectangle(image, (0,0), (250, 60), (245, 117, 16), -1)\n",
    "\n",
    "            cv2.putText(image, 'action',\n",
    "                        (95,12), cv2.FONT_HERSHEY_SIMPLEX, 0.5, (0,0,0), 1, cv2.LINE_AA)\n",
    "            cv2.putText(image, pushup_label.split(' ')[0],\n",
    "                        (90,40), cv2.FONT_HERSHEY_SIMPLEX, 1, (255,255,255), 2, cv2.LINE_AA)\n",
    "            \n",
    "            # Display probability\n",
    "            cv2.putText(image, 'prob',\n",
    "                        (15,12), cv2.FONT_HERSHEY_SIMPLEX, 0.5, (0,0,0), 1, cv2.LINE_AA)\n",
    "            cv2.putText(image, str(round(pushup_prob[np.argmax(pushup_prob)], 2)),\n",
    "                        (10,40), cv2.FONT_HERSHEY_SIMPLEX, 1, (255,255,255), 2, cv2.LINE_AA)\n",
    "            \n",
    "            # Display pushups count\n",
    "            cv2.putText(image, 'count',\n",
    "                        (180,12), cv2.FONT_HERSHEY_SIMPLEX, 0.5, (0,0,0), 1, cv2.LINE_AA)\n",
    "            cv2.putText(image, str(counter),\n",
    "                        (175,40), cv2.FONT_HERSHEY_SIMPLEX, 1, (255,255,255), 2, cv2.LINE_AA)\n",
    "            \n",
    "        except Exception as e:\n",
    "            pass\n",
    "\n",
    "        cv2.imshow('Video', image)\n",
    "        if cv2.waitKey(1) & 0xFF == ord('q'):\n",
    "            break\n",
    "\n",
    "cap.release()\n",
    "cv2.destroyAllWindows()"
   ]
  },
  {
   "cell_type": "code",
   "execution_count": 107,
   "metadata": {},
   "outputs": [
    {
     "name": "stdout",
     "output_type": "stream",
     "text": [
      "f\n"
     ]
    }
   ],
   "source": [
    "print('f')"
   ]
  }
 ],
 "metadata": {
  "kernelspec": {
   "display_name": "Python 3",
   "language": "python",
   "name": "python3"
  },
  "language_info": {
   "codemirror_mode": {
    "name": "ipython",
    "version": 3
   },
   "file_extension": ".py",
   "mimetype": "text/x-python",
   "name": "python",
   "nbconvert_exporter": "python",
   "pygments_lexer": "ipython3",
   "version": "3.10.0"
  },
  "orig_nbformat": 4
 },
 "nbformat": 4,
 "nbformat_minor": 2
}
